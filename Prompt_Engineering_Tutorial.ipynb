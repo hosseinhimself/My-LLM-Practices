{
  "nbformat": 4,
  "nbformat_minor": 0,
  "metadata": {
    "colab": {
      "provenance": [],
      "authorship_tag": "ABX9TyO/HF67psjG7BsPxJ9BxDY6"
    },
    "kernelspec": {
      "name": "python3",
      "display_name": "Python 3"
    },
    "language_info": {
      "name": "python"
    }
  },
  "cells": [
    {
      "cell_type": "markdown",
      "source": [
        "# Prompt Engineering using Gemini and Python"
      ],
      "metadata": {
        "id": "AuXXnXx-Fjl3"
      }
    },
    {
      "cell_type": "code",
      "execution_count": 1,
      "metadata": {
        "id": "NvlIkHD0wR8N"
      },
      "outputs": [],
      "source": [
        "!pip install -q -U google-generativeai\n"
      ]
    },
    {
      "cell_type": "code",
      "source": [
        "!pip install -q --upgrade google-generativeai\n"
      ],
      "metadata": {
        "id": "md_XRLnIymUL"
      },
      "execution_count": 2,
      "outputs": []
    },
    {
      "cell_type": "code",
      "source": [
        "import pathlib\n",
        "import textwrap\n",
        "\n",
        "import google.generativeai as genai\n",
        "\n",
        "from IPython.display import display\n",
        "from IPython.display import Markdown\n",
        "\n",
        "\n",
        "def to_markdown(text):\n",
        "  text = text.replace('•', '  *')\n",
        "  return Markdown(textwrap.indent(text, '> ', predicate=lambda _: True))"
      ],
      "metadata": {
        "id": "2XEBNBZUwhHi"
      },
      "execution_count": 3,
      "outputs": []
    },
    {
      "cell_type": "code",
      "source": [
        "from google.colab import userdata"
      ],
      "metadata": {
        "id": "PmTYcSRzwj-g"
      },
      "execution_count": 4,
      "outputs": []
    },
    {
      "cell_type": "code",
      "source": [
        "import os\n",
        "import getpass\n",
        "\n",
        "api_key = getpass.getpass('Gemini API Key:')\n",
        "\n",
        "genai.configure(api_key=api_key)"
      ],
      "metadata": {
        "colab": {
          "base_uri": "https://localhost:8080/"
        },
        "id": "nZu9bZELwlQh",
        "outputId": "f9c47ae2-23ed-4a6c-d02d-c7406cfdc7de"
      },
      "execution_count": 13,
      "outputs": [
        {
          "name": "stdout",
          "output_type": "stream",
          "text": [
            "Gemini API Key:··········\n"
          ]
        }
      ]
    },
    {
      "cell_type": "code",
      "source": [
        "model = genai.GenerativeModel('gemini-pro')\n"
      ],
      "metadata": {
        "id": "dmzTzkJ_w9JL"
      },
      "execution_count": 15,
      "outputs": []
    },
    {
      "cell_type": "code",
      "source": [
        "%%time\n",
        "response = model.generate_content(\"What is the meaning of life?\")"
      ],
      "metadata": {
        "colab": {
          "base_uri": "https://localhost:8080/",
          "height": 52
        },
        "id": "8O24ds3JxTqg",
        "outputId": "04266abb-6261-4651-f067-73096891c0b0"
      },
      "execution_count": 16,
      "outputs": [
        {
          "output_type": "stream",
          "name": "stdout",
          "text": [
            "CPU times: user 111 ms, sys: 8.57 ms, total: 120 ms\n",
            "Wall time: 5.95 s\n"
          ]
        }
      ]
    },
    {
      "cell_type": "code",
      "source": [
        "response.text"
      ],
      "metadata": {
        "colab": {
          "base_uri": "https://localhost:8080/",
          "height": 123
        },
        "id": "Svu9xUaezS6H",
        "outputId": "3e888e85-c7fb-4074-cc68-12d69473ed6d"
      },
      "execution_count": 18,
      "outputs": [
        {
          "output_type": "execute_result",
          "data": {
            "text/plain": [
              "\"The meaning of life is a deeply personal and subjective question that has occupied philosophers, theologians, and individuals throughout history. There is no one universally accepted answer, but there are a multitude of proposed meanings, including:\\n\\n1. **Eudaimonia (Happiness):** The pursuit of happiness and well-being as the ultimate goal.\\n\\n2. **Purpose:** Fulfilling a specific purpose or role in life, often related to one's talents or passions.\\n\\n3. **Service:** Making a positive contribution to society or others, finding meaning through acts of kindness and empathy.\\n\\n4. **Growth and Learning:** The ongoing pursuit of knowledge, skill development, and personal evolution.\\n\\n5. **Connection:** Building and maintaining meaningful relationships with others, finding belonging and purpose within a community.\\n\\n6. **Legacy:** Leaving behind a positive and lasting impact on the world, whether through accomplishments, creativity, or mentorship.\\n\\n7. **Spiritual Fulfillment:** Seeking meaning and purpose through religious beliefs, meditation, or spiritual practices.\\n\\n8. **Hedonism:** Experiencing pleasure and enjoyment as the primary goal.\\n\\n9. **Existentialism:** Embracing the inherent absurdity and meaninglessness of existence and creating meaning through individual choices and actions.\\n\\n10. **Meaning Varies:** The meaning of life is fluid and subjective, changing according to individual experiences, beliefs, and values.\\n\\nUltimately, the meaning of life is a question that each individual must answer for themselves. It is an ongoing journey of self-discovery and introspection, with no single or definitive answer.\""
            ],
            "application/vnd.google.colaboratory.intrinsic+json": {
              "type": "string"
            }
          },
          "metadata": {},
          "execution_count": 18
        }
      ]
    },
    {
      "cell_type": "code",
      "source": [
        "to_markdown(response.text)"
      ],
      "metadata": {
        "colab": {
          "base_uri": "https://localhost:8080/",
          "height": 387
        },
        "id": "lrzG6UabE5Ui",
        "outputId": "400e1aac-d55a-4614-e663-729394541571"
      },
      "execution_count": 19,
      "outputs": [
        {
          "output_type": "execute_result",
          "data": {
            "text/plain": [
              "<IPython.core.display.Markdown object>"
            ],
            "text/markdown": "> The meaning of life is a deeply personal and subjective question that has occupied philosophers, theologians, and individuals throughout history. There is no one universally accepted answer, but there are a multitude of proposed meanings, including:\n> \n> 1. **Eudaimonia (Happiness):** The pursuit of happiness and well-being as the ultimate goal.\n> \n> 2. **Purpose:** Fulfilling a specific purpose or role in life, often related to one's talents or passions.\n> \n> 3. **Service:** Making a positive contribution to society or others, finding meaning through acts of kindness and empathy.\n> \n> 4. **Growth and Learning:** The ongoing pursuit of knowledge, skill development, and personal evolution.\n> \n> 5. **Connection:** Building and maintaining meaningful relationships with others, finding belonging and purpose within a community.\n> \n> 6. **Legacy:** Leaving behind a positive and lasting impact on the world, whether through accomplishments, creativity, or mentorship.\n> \n> 7. **Spiritual Fulfillment:** Seeking meaning and purpose through religious beliefs, meditation, or spiritual practices.\n> \n> 8. **Hedonism:** Experiencing pleasure and enjoyment as the primary goal.\n> \n> 9. **Existentialism:** Embracing the inherent absurdity and meaninglessness of existence and creating meaning through individual choices and actions.\n> \n> 10. **Meaning Varies:** The meaning of life is fluid and subjective, changing according to individual experiences, beliefs, and values.\n> \n> Ultimately, the meaning of life is a question that each individual must answer for themselves. It is an ongoing journey of self-discovery and introspection, with no single or definitive answer."
          },
          "metadata": {},
          "execution_count": 19
        }
      ]
    },
    {
      "cell_type": "markdown",
      "source": [
        "# Automatic Grader using Gemini\n"
      ],
      "metadata": {
        "id": "ImZvtJTbFeHF"
      }
    },
    {
      "cell_type": "code",
      "source": [
        "! pip install -q -U langchain"
      ],
      "metadata": {
        "id": "hhM3E7EE_I5D"
      },
      "execution_count": 20,
      "outputs": []
    },
    {
      "cell_type": "code",
      "source": [
        "!pip install -q langchain-google-genai\n"
      ],
      "metadata": {
        "id": "aMZf9uP1_bBO"
      },
      "execution_count": 21,
      "outputs": []
    },
    {
      "cell_type": "code",
      "source": [
        "# Run this cell and paste the API key in the prompt\n",
        "import os\n",
        "import getpass\n",
        "\n",
        "os.environ['GOOGLE_API_KEY'] = api_key"
      ],
      "metadata": {
        "id": "5v7vZqkgCqIg"
      },
      "execution_count": 22,
      "outputs": []
    },
    {
      "cell_type": "code",
      "source": [
        "from langchain import PromptTemplate\n",
        "from langchain.document_loaders import WebBaseLoader\n",
        "from langchain.schema import StrOutputParser\n",
        "from langchain.schema.prompt_template import format_document\n",
        "from langchain.chains import LLMChain\n"
      ],
      "metadata": {
        "id": "1Y9CuPfnC4xP"
      },
      "execution_count": 23,
      "outputs": []
    },
    {
      "cell_type": "code",
      "source": [
        "from langchain_google_genai import ChatGoogleGenerativeAI\n",
        "chat_model = ChatGoogleGenerativeAI(model=\"gemini-pro\",\n",
        "                 temperature=0.7, top_p=0.85)"
      ],
      "metadata": {
        "id": "peo1_CKcC-Pv"
      },
      "execution_count": 24,
      "outputs": []
    },
    {
      "cell_type": "code",
      "source": [
        "# define prompt template\n",
        "prompt_template_text = \"\"\"You are a high school history teacher grading homework assignments. \\\n",
        "Based on the homework question indicated by “**Q:**” and the correct answer indicated by “**A:**”, your task is to determine whether the student's answer is correct. \\\n",
        "Grading is binary; therefore, student answers can be correct or wrong. \\\n",
        "Simple misspellings are okay.\n",
        "\n",
        "**Q:** {question}\n",
        "**A:** {correct_answer}\n",
        "\n",
        "**Student's Answer:** {student_answer}\n",
        "\"\"\"\n",
        "\n",
        "prompt = PromptTemplate(input_variables=[\"question\", \"correct_answer\", \"student_answer\"], template = prompt_template_text)"
      ],
      "metadata": {
        "id": "OpDmu5lyDeLm"
      },
      "execution_count": 25,
      "outputs": []
    },
    {
      "cell_type": "code",
      "source": [
        "# define chain\n",
        "chain = LLMChain(\n",
        "    llm=chat_model,\n",
        "    prompt=prompt,\n",
        ")"
      ],
      "metadata": {
        "id": "W_ViPo12Dhx5"
      },
      "execution_count": 26,
      "outputs": []
    },
    {
      "cell_type": "code",
      "source": [
        "question = \"Who was the 35th president of the United States of America?\"\n",
        "correct_answer = \"John F. Kennedy\"\n",
        "student_answer =  \"JFK\"\n",
        "\n",
        "# run chain\n",
        "chain.run({'question':question, 'correct_answer':correct_answer, 'student_answer':student_answer})"
      ],
      "metadata": {
        "colab": {
          "base_uri": "https://localhost:8080/",
          "height": 90
        },
        "id": "eCeEFXwsDpOk",
        "outputId": "b169802b-6a30-4880-8c0f-b7bca5169203"
      },
      "execution_count": 27,
      "outputs": [
        {
          "output_type": "stream",
          "name": "stderr",
          "text": [
            "/usr/local/lib/python3.10/dist-packages/langchain_core/_api/deprecation.py:117: LangChainDeprecationWarning: The function `run` was deprecated in LangChain 0.1.0 and will be removed in 0.2.0. Use invoke instead.\n",
            "  warn_deprecated(\n"
          ]
        },
        {
          "output_type": "execute_result",
          "data": {
            "text/plain": [
              "'Correct'"
            ],
            "application/vnd.google.colaboratory.intrinsic+json": {
              "type": "string"
            }
          },
          "metadata": {},
          "execution_count": 27
        }
      ]
    },
    {
      "cell_type": "code",
      "source": [
        "# run chain in for loop\n",
        "student_answer_list = [\"John F. Kennedy\", \"JFK\", \"FDR\", \"John F. Kenedy\", \"John Kennedy\", \"Jack Kennedy\", \"Jacqueline Kennedy\", \"Robert F. Kenedy\"]\n",
        "\n",
        "for student_answer in student_answer_list:\n",
        "    print(student_answer + \" - \" + str(chain.run({'question':question, 'correct_answer':correct_answer, 'student_answer':student_answer})))\n"
      ],
      "metadata": {
        "colab": {
          "base_uri": "https://localhost:8080/"
        },
        "id": "GUrYVnvxDvbW",
        "outputId": "c4862388-96e7-4b6e-ea88-564fef9ade5d"
      },
      "execution_count": 29,
      "outputs": [
        {
          "output_type": "stream",
          "name": "stdout",
          "text": [
            "John F. Kennedy - Correct\n",
            "JFK - Correct\n",
            "FDR - Wrong\n",
            "John F. Kenedy - Correct\n",
            "John Kennedy - Correct\n",
            "Jack Kennedy - Correct\n",
            "Jacqueline Kennedy - Wrong\n",
            "Robert F. Kenedy - Wrong\n"
          ]
        }
      ]
    },
    {
      "cell_type": "code",
      "source": [
        "from langchain.schema import BaseOutputParser\n",
        "\n",
        "# define output parser\n",
        "class GradeOutputParser(BaseOutputParser):\n",
        "    \"\"\"Determine whether grade was correct or wrong\"\"\"\n",
        "\n",
        "    def parse(self, text: str):\n",
        "        \"\"\"Parse the output of an LLM call.\"\"\"\n",
        "        return \"wrong\" not in text.lower()"
      ],
      "metadata": {
        "id": "VLuV-fY-FLHR"
      },
      "execution_count": 30,
      "outputs": []
    },
    {
      "cell_type": "code",
      "source": [
        "# update chain\n",
        "chain = LLMChain(\n",
        "    llm=chat_model,\n",
        "    prompt=prompt,\n",
        "    output_parser=GradeOutputParser()\n",
        ")"
      ],
      "metadata": {
        "id": "ExO-53-NFSkl"
      },
      "execution_count": 31,
      "outputs": []
    },
    {
      "cell_type": "code",
      "source": [
        "# grade student answers\n",
        "for student_answer in student_answer_list:\n",
        "    print(student_answer + \" - \" + str(chain.run({'question':question, 'correct_answer':correct_answer, 'student_answer':student_answer})))\n"
      ],
      "metadata": {
        "colab": {
          "base_uri": "https://localhost:8080/"
        },
        "id": "DCsE-ZgSFZqR",
        "outputId": "1956f413-7b99-456a-a348-f95fdf0b11aa"
      },
      "execution_count": 32,
      "outputs": [
        {
          "output_type": "stream",
          "name": "stdout",
          "text": [
            "John F. Kennedy - True\n",
            "JFK - True\n",
            "FDR - False\n",
            "John F. Kenedy - True\n",
            "John Kennedy - True\n",
            "Jack Kennedy - True\n",
            "Jacqueline Kennedy - False\n",
            "Robert F. Kenedy - False\n"
          ]
        }
      ]
    }
  ]
}